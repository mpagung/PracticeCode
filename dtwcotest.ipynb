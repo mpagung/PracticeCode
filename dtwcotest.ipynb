{
 "cells": [
  {
   "cell_type": "code",
   "execution_count": 4,
   "metadata": {},
   "outputs": [
    {
     "name": "stdout",
     "output_type": "stream",
     "text": [
      "1.0\n",
      "[[ 0. inf inf inf inf inf inf inf inf inf inf inf inf inf inf inf]\n",
      " [inf  0. inf inf inf inf inf inf inf inf inf inf inf inf inf inf]\n",
      " [inf  0.  1.  2. inf inf inf inf inf inf inf inf inf inf inf inf]\n",
      " [inf inf  1.  2.  4.  6. inf inf inf inf inf inf inf inf inf inf]\n",
      " [inf inf  1.  1.  2.  3.  5.  7. inf inf inf inf inf inf inf inf]\n",
      " [inf inf inf  1.  2.  3.  5.  7.  9. 11. inf inf inf inf inf inf]\n",
      " [inf inf inf  2.  1.  1.  2.  3.  4.  5.  5.  5. inf inf inf inf]\n",
      " [inf inf inf inf  1.  1.  2.  3.  4.  5.  5.  5.  6. inf inf inf]\n",
      " [inf inf inf inf  2.  2.  1.  1.  1.  1.  2.  3.  5. inf inf inf]\n",
      " [inf inf inf inf inf  2.  2.  2.  2.  2.  1.  1.  2.  3. inf inf]\n",
      " [inf inf inf inf inf  3.  4.  4.  4.  4.  2.  2.  1.  1. inf inf]\n",
      " [inf inf inf inf inf inf  5.  6.  6.  6.  3.  3.  1.  1.  2. inf]\n",
      " [inf inf inf inf inf inf inf inf  9.  9.  5.  5.  2.  2.  1. inf]\n",
      " [inf inf inf inf inf inf inf inf inf inf  7.  7.  3.  3.  1.  1.]\n",
      " [inf inf inf inf inf inf inf inf inf inf inf inf  4.  4.  1.  1.]\n",
      " [inf inf inf inf inf inf inf inf inf inf inf inf inf inf  1.  1.]]\n"
     ]
    },
    {
     "data": {
      "image/png": "[encoded data removed]",
      "text/plain": [
       "<Figure size 432x288 with 1 Axes>"
      ]
     },
     "metadata": {},
     "output_type": "display_data"
    }
   ],
   "source": [
    "import dtwco\n",
    "import matplotlib.pyplot as plt\n",
    "import matplotlib.cm as cm\n",
    "x = [0,0,0,0,1,1,2,2,3,2,1,1,0,0,0,0]\n",
    "y = [0,0,1,1,2,2,3,3,3,3,2,2,1,1,0,0]\n",
    "dist, cost, path = dtwco.dtw(x, y, constraint='itakura', dist_only=False)\n",
    "print(dist)\n",
    "\n",
    "fig = plt.figure(1)\n",
    "ax = fig.add_subplot(111)\n",
    "plot1 = plt.imshow(cost.T, origin='lower', cmap=cm.gray, interpolation='nearest')\n",
    "plot2 = plt.plot(path[0], path[1], 'w')\n",
    "xlim = ax.set_xlim((-0.5, cost.shape[0]-0.5))\n",
    "ylim = ax.set_ylim((-0.5, cost.shape[1]-0.5))\n",
    "plt.show()"
   ]
  },
  {
   "cell_type": "code",
   "execution_count": null,
   "metadata": {},
   "outputs": [],
   "source": []
  }
 ],
 "metadata": {
  "kernelspec": {
   "display_name": "Python 3",
   "language": "python",
   "name": "python3"
  },
  "language_info": {
   "codemirror_mode": {
    "name": "ipython",
    "version": 3
   },
   "file_extension": ".py",
   "mimetype": "text/x-python",
   "name": "python",
   "nbconvert_exporter": "python",
   "pygments_lexer": "ipython3",
   "version": "3.6.5"
  }
 },
 "nbformat": 4,
 "nbformat_minor": 2
}
