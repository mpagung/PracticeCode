{
 "cells": [
  {
   "cell_type": "code",
   "execution_count": 8,
   "metadata": {},
   "outputs": [],
   "source": [
    "import csv\n",
    "from datetime import datetime,date,time\n",
    "import matplotlib.pyplot as plt\n",
    "import numpy as np\n",
    "import pandas as pd"
   ]
  },
  {
   "cell_type": "markdown",
   "metadata": {},
   "source": [
    "## Read Values on a csv file and save it as a DataFrame\n",
    "### index must be alphabet"
   ]
  },
  {
   "cell_type": "code",
   "execution_count": 9,
   "metadata": {},
   "outputs": [
    {
     "name": "stdout",
     "output_type": "stream",
     "text": [
      "                         time  channel_a  channel_b  channel_c  channel_d  \\\n",
      "a  2018-11-02 07:44:58.480236       1023          0        531       1023   \n",
      "b  2018-11-02 07:44:58.583775       1023          0        380       1023   \n",
      "c  2018-11-02 07:44:58.686910       1023          0        273       1023   \n",
      "d  2018-11-02 07:44:58.790032       1023          0        178        145   \n",
      "e  2018-11-02 07:44:58.893163       1023          0        659          0   \n",
      "f  2018-11-02 07:44:58.996255       1023          0        765        227   \n",
      "g  2018-11-02 07:44:59.099391       1023          0        622       1023   \n",
      "h  2018-11-02 07:44:59.202646       1023          0        548        834   \n",
      "i  2018-11-02 07:44:59.309529       1023          0        362        126   \n",
      "j  2018-11-02 07:44:59.416461       1023          0        226       1023   \n",
      "k  2018-11-02 07:44:59.523449       1023          0        190          0   \n",
      "l  2018-11-02 07:44:59.630393       1023          0        641       1023   \n",
      "m  2018-11-02 07:44:59.737389       1023          0        696        247   \n",
      "n  2018-11-02 07:44:59.844311       1023          0        597        264   \n",
      "o  2018-11-02 07:44:59.951264       1023          0        475       1005   \n",
      "p  2018-11-02 07:45:00.058179       1023          0        335          0   \n",
      "q  2018-11-02 07:45:00.165299       1023          0        230       1023   \n",
      "r  2018-11-02 07:45:00.272285       1023          0        280          0   \n",
      "s  2018-11-02 07:45:00.379203       1023          0        641        961   \n",
      "t  2018-11-02 07:45:00.486194       1023          0        634        738   \n",
      "u  2018-11-02 07:45:00.593142       1023          0        549        121   \n",
      "v  2018-11-02 07:45:00.700156       1023          0        384       1023   \n",
      "w  2018-11-02 07:45:00.807137       1023          0        299          0   \n",
      "x  2018-11-02 07:45:00.914122       1023          0        259       1023   \n",
      "y  2018-11-02 07:45:01.021140       1023          0        652        134   \n",
      "z  2018-11-02 07:45:01.128087       1023          0        633        452   \n",
      "\n",
      "   channel_e  \n",
      "a        529  \n",
      "b        376  \n",
      "c        263  \n",
      "d        173  \n",
      "e        655  \n",
      "f        763  \n",
      "g        619  \n",
      "h        544  \n",
      "i        357  \n",
      "j        221  \n",
      "k        184  \n",
      "l        637  \n",
      "m        692  \n",
      "n        589  \n",
      "o        472  \n",
      "p        331  \n",
      "q        224  \n",
      "r        276  \n",
      "s        637  \n",
      "t        630  \n",
      "u        542  \n",
      "v        380  \n",
      "w        284  \n",
      "x        253  \n",
      "y        649  \n",
      "z        629  \n"
     ]
    }
   ],
   "source": [
    "data=pd.read_csv('../babyproject/testnonin')\n",
    "data=data[0:26]\n",
    "alpha=list(map(chr,range(ord('a'),ord('z')+1)))\n",
    "data.index=alpha\n",
    "print((data))"
   ]
  },
  {
   "cell_type": "markdown",
   "metadata": {},
   "source": [
    "## Write into CSV file, check the output"
   ]
  },
  {
   "cell_type": "code",
   "execution_count": 16,
   "metadata": {},
   "outputs": [],
   "source": [
    "#data.to_csv('testnonin_modified.csv',index=False) <-this is to completely eliminate the alphabet index\n",
    "data.to_csv('testnonin_modified.csv')"
   ]
  },
  {
   "cell_type": "code",
   "execution_count": 49,
   "metadata": {},
   "outputs": [
    {
     "name": "stdout",
     "output_type": "stream",
     "text": [
      "                                  time  channel_a  channel_b  channel_c  \\\n",
      "Unnamed: 0                                                                \n",
      "s           2018-11-02 07:45:00.379203       1023          0        641   \n",
      "t           2018-11-02 07:45:00.486194       1023          0        634   \n",
      "u           2018-11-02 07:45:00.593142       1023          0        549   \n",
      "v           2018-11-02 07:45:00.700156       1023          0        384   \n",
      "w           2018-11-02 07:45:00.807137       1023          0        299   \n",
      "x           2018-11-02 07:45:00.914122       1023          0        259   \n",
      "y           2018-11-02 07:45:01.021140       1023          0        652   \n",
      "z           2018-11-02 07:45:01.128087       1023          0        633   \n",
      "\n",
      "            channel_d  channel_e  \n",
      "Unnamed: 0                        \n",
      "s                 961        637  \n",
      "t                 738        630  \n",
      "u                 121        542  \n",
      "v                1023        380  \n",
      "w                   0        284  \n",
      "x                1023        253  \n",
      "y                 134        649  \n",
      "z                 452        629  \n"
     ]
    }
   ],
   "source": [
    "data2=pd.read_csv('testnonin_modified.csv')\n",
    "data2.set_index('Unnamed: 0',inplace=True)\n",
    "print(data2.loc['s':'z',:])"
   ]
  },
  {
   "cell_type": "markdown",
   "metadata": {},
   "source": [
    "## Using a string to call another variable"
   ]
  },
  {
   "cell_type": "code",
   "execution_count": null,
   "metadata": {},
   "outputs": [],
   "source": [
    "for i in range(1,4):\n",
    "    "
   ]
  },
  {
   "cell_type": "code",
   "execution_count": 53,
   "metadata": {},
   "outputs": [
    {
     "data": {
      "text/plain": [
       "True"
      ]
     },
     "execution_count": 53,
     "metadata": {},
     "output_type": "execute_result"
    }
   ],
   "source": []
  },
  {
   "cell_type": "code",
   "execution_count": null,
   "metadata": {},
   "outputs": [],
   "source": []
  }
 ],
 "metadata": {
  "kernelspec": {
   "display_name": "Python 3",
   "language": "python",
   "name": "python3"
  },
  "language_info": {
   "codemirror_mode": {
    "name": "ipython",
    "version": 3
   },
   "file_extension": ".py",
   "mimetype": "text/x-python",
   "name": "python",
   "nbconvert_exporter": "python",
   "pygments_lexer": "ipython3",
   "version": "3.6.5"
  }
 },
 "nbformat": 4,
 "nbformat_minor": 2
}
