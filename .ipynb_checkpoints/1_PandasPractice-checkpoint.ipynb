{
 "cells": [
  {
   "cell_type": "code",
   "execution_count": 3,
   "metadata": {},
   "outputs": [],
   "source": [
    "import pandas as pd\n",
    "import matplotlib.pyplot as plt\n",
    "import datetime\n",
    "from matplotlib import style\n"
   ]
  },
  {
   "cell_type": "code",
   "execution_count": 7,
   "metadata": {},
   "outputs": [
    {
     "name": "stdout",
     "output_type": "stream",
     "text": [
      "{'day': [1, 2, 3, 4, 5], 'hours': [7, 3, 4, 3, 8], 'progress': [10, 25, 30, 30, 55]}\n"
     ]
    }
   ],
   "source": [
    "testdata={'day':[1,2,3,4,5],\n",
    "          'hours':[7,3,4,3,8],\n",
    "          'progress':[10,25,30,30,55]}\n",
    "print(testdata)"
   ]
  },
  {
   "cell_type": "code",
   "execution_count": 8,
   "metadata": {},
   "outputs": [
    {
     "data": {
      "text/plain": [
       "{'day': [1, 2, 3, 4, 5],\n",
       " 'hours': [7, 3, 4, 3, 8],\n",
       " 'progress': [10, 25, 30, 30, 55]}"
      ]
     },
     "execution_count": 8,
     "metadata": {},
     "output_type": "execute_result"
    }
   ],
   "source": [
    "testdata"
   ]
  },
  {
   "cell_type": "code",
   "execution_count": 19,
   "metadata": {},
   "outputs": [
    {
     "name": "stdout",
     "output_type": "stream",
     "text": [
      "   day  hours  progress\n",
      "1    2      3        25\n",
      "2    3      4        30\n",
      "     hours  progress\n",
      "day                 \n",
      "2        3        25\n",
      "3        4        30\n"
     ]
    }
   ],
   "source": [
    "timesheet=pd.DataFrame(testdata)\n",
    "print(timesheet)\n",
    "timesheet.set_index('day',inplace=True)\n",
    "print(timesheet)"
   ]
  },
  {
   "cell_type": "code",
   "execution_count": 20,
   "metadata": {},
   "outputs": [
    {
     "data": {
      "text/plain": [
       "day\n",
       "1    10\n",
       "2    25\n",
       "3    30\n",
       "4    30\n",
       "5    55\n",
       "Name: progress, dtype: int64"
      ]
     },
     "execution_count": 20,
     "metadata": {},
     "output_type": "execute_result"
    }
   ],
   "source": [
    "timesheet.progress #or timesheet['progress']"
   ]
  },
  {
   "cell_type": "code",
   "execution_count": 21,
   "metadata": {},
   "outputs": [],
   "source": [
    "stats=timesheet[['hours','progress']].to_csv('timesheet1')"
   ]
  },
  {
   "cell_type": "code",
   "execution_count": null,
   "metadata": {},
   "outputs": [],
   "source": [
    "data1"
   ]
  }
 ],
 "metadata": {
  "kernelspec": {
   "display_name": "Python 3",
   "language": "python",
   "name": "python3"
  },
  "language_info": {
   "codemirror_mode": {
    "name": "ipython",
    "version": 3
   },
   "file_extension": ".py",
   "mimetype": "text/x-python",
   "name": "python",
   "nbconvert_exporter": "python",
   "pygments_lexer": "ipython3",
   "version": "3.6.5"
  }
 },
 "nbformat": 4,
 "nbformat_minor": 2
}
